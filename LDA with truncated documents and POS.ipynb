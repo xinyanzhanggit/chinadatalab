{
 "cells": [
  {
   "cell_type": "markdown",
   "metadata": {},
   "source": [
    "# LDA with truncated documents and POS\n"
   ]
  },
  {
   "cell_type": "markdown",
   "metadata": {},
   "source": [
    "#### May 13"
   ]
  },
  {
   "cell_type": "markdown",
   "metadata": {},
   "source": [
    "### Import Pakeges"
   ]
  },
  {
   "cell_type": "code",
   "execution_count": 3,
   "metadata": {},
   "outputs": [],
   "source": [
    "import pandas as pd\n",
    "from pyhanlp import *\n",
    "from gensim import *\n",
    "import numpy as np\n",
    "from sklearn.model_selection import train_test_split\n",
    "import os\n",
    "import pickle\n",
    "from datetime import datetime\n",
    "import matplotlib.pyplot as plt \n",
    "from googletrans import Translator"
   ]
  },
  {
   "cell_type": "code",
   "execution_count": 2,
   "metadata": {},
   "outputs": [],
   "source": [
    "import networkx  as nx\n",
    "from itertools import combinations as comb\n",
    "\n",
    "# Importing the dataset\n",
    "path = 'trade-news.csv'\n",
    "dataset = pd.read_csv(path)\n",
    "\n",
    "def text_preprocess(text):\n",
    "    # Delete Space and truncate the text \n",
    "    text = text.replace(' ','')\n",
    "    if len(text)>50:\n",
    "        text = text[20:-20]\n",
    "    # resegmentation, result is a list of words with their POS tagging for each document\n",
    "    text = str(HanLP.segment(text)).replace('[','').replace(']','').split(', ')\n",
    "    return text\n",
    "\n",
    "\n",
    "content_seg = list(map(text_preprocess, dataset['content']))\n",
    "\n",
    "\n",
    "\n",
    "# extract words we want according to it's POS tagging\n",
    "def get_words(arr):\n",
    "        re_list = []\n",
    "        ner = words \n",
    "        for x in arr:\n",
    "            temp = x.split(\"/\")\n",
    "            if(temp[1] in ner):\n",
    "                re_list.append(x)\n",
    "        return re_list\n",
    "\n",
    "# entity we choose to use in network    \n",
    "words = ['ni','nic','nit','nr','nrf','nt','ntc','ntcb','ntcf','ntch',\n",
    "         'nth','nto','nts','ntu', 'n']\n",
    "\n",
    "meaning = {'ni':'organization', 'nic': 'subordinate organization', \n",
    "           'nit': 'educational institution', 'nr': 'person',\n",
    "           'nrf': 'person', 'nt': 'organization',\n",
    "           'ntc':'company','ntcb':'bank','ntcf':'factory','ntch':'hotel',\n",
    "           'nth':'hospital','nto':'government','nts':'middle and primary school',\n",
    "           'ntu':'university', 'n':'noun'}\n",
    "\n",
    "# extract words we want according to it's POS tagging\n",
    "def get_words_and_POS(arr):\n",
    "        result = {}\n",
    "        ner = words \n",
    "        for x in arr:\n",
    "            temp = x.split(\"/\")\n",
    "            if(temp[1] in ner):\n",
    "                result[temp[0]] = meaning[temp[1]]\n",
    "        return result\n",
    "\n",
    "# filtered list of words for each document\n",
    "        \n",
    "words_list = [get_words(doc) for doc in content_seg]"
   ]
  },
  {
   "cell_type": "markdown",
   "metadata": {},
   "source": [
    "### Save and Load the Words List"
   ]
  },
  {
   "cell_type": "code",
   "execution_count": 3,
   "metadata": {},
   "outputs": [],
   "source": [
    "# Save words_list\n",
    "with open('words_list_with_POS_10_50', 'wb') as f:\n",
    "    pickle.dump(words_list, f)"
   ]
  },
  {
   "cell_type": "code",
   "execution_count": 4,
   "metadata": {},
   "outputs": [],
   "source": [
    "# Load words_list\n",
    "with open('words_list_with_POS_10_50', 'rb') as f:\n",
    "    words_list = pickle.load(f)"
   ]
  },
  {
   "cell_type": "markdown",
   "metadata": {},
   "source": [
    "### Create dictionary and train, test BOW corpus"
   ]
  },
  {
   "cell_type": "code",
   "execution_count": 5,
   "metadata": {},
   "outputs": [],
   "source": [
    "# Create Train-Test Split of the Word List\n",
    "words_list_train, words_list_test = train_test_split(words_list, test_size = 0.2, random_state = 2333)\n",
    "# Change words_list to a gensim dictionary\n",
    "dictionary = corpora.Dictionary(words_list_train)\n",
    "# Convert document into the bag-of-words\n",
    "corpus_train = [dictionary.doc2bow(words) for words in words_list_train]\n",
    "corpus_test = [dictionary.doc2bow(words) for words in words_list_test]"
   ]
  },
  {
   "cell_type": "markdown",
   "metadata": {},
   "source": [
    "### Train different LDA models"
   ]
  },
  {
   "cell_type": "code",
   "execution_count": 5,
   "metadata": {},
   "outputs": [],
   "source": [
    "topics = [10, 50]#,20,30,40,50]#,75,100,150,200,300]"
   ]
  },
  {
   "cell_type": "code",
   "execution_count": 7,
   "metadata": {},
   "outputs": [],
   "source": [
    "# Train different LDA models\n",
    "LDAmodels = {}\n",
    "for i in topics:\n",
    "    LDAmodels[i] = models.LdaModel(corpus_train, id2word=dictionary, num_topics=i)\n",
    "    if not os.path.exists('LDAmodelsNoun_POS10_50'):\n",
    "        os.makedirs('LDAmodelsNoun_POS10_50')  \n",
    "    LDAmodels[i].save('LDAmodelsNoun_POS10_50/topic_bow_train{}'.format(i))"
   ]
  },
  {
   "cell_type": "markdown",
   "metadata": {},
   "source": [
    "### Save and Load LDA models"
   ]
  },
  {
   "cell_type": "code",
   "execution_count": null,
   "metadata": {},
   "outputs": [],
   "source": [
    "# Save LDA models\n",
    "if not os.path.exists('LDAmodelsNoun_POS10_50'):\n",
    "    os.makedirs('LDAmodelsNoun_POS10_50')   \n",
    "for i in topics:\n",
    "    LDAmodels[i].save('LDAmodelsNoun_POS10_50/topic_bow_train{}'.format(i))"
   ]
  },
  {
   "cell_type": "code",
   "execution_count": 7,
   "metadata": {},
   "outputs": [
    {
     "data": {
      "text/plain": [
       "{10: <gensim.models.ldamodel.LdaModel at 0x7f605d2897b8>,\n",
       " 20: <gensim.models.ldamodel.LdaModel at 0x7f605d289828>,\n",
       " 30: <gensim.models.ldamodel.LdaModel at 0x7f605d2897f0>,\n",
       " 40: <gensim.models.ldamodel.LdaModel at 0x7f605d289940>,\n",
       " 50: <gensim.models.ldamodel.LdaModel at 0x7f5e7be2f6d8>,\n",
       " 75: <gensim.models.ldamodel.LdaModel at 0x7f5e7be2f748>}"
      ]
     },
     "execution_count": 7,
     "metadata": {},
     "output_type": "execute_result"
    }
   ],
   "source": [
    "LDAmodels"
   ]
  },
  {
   "cell_type": "code",
   "execution_count": 6,
   "metadata": {},
   "outputs": [],
   "source": [
    "# load LDA models\n",
    "LDAmodels = {}\n",
    "for i in topics:\n",
    "    LDAmodels[i]= models.LdaModel.load('LDAmodelsNoun_POS10_50/topic_bow_train{}'.format(i))"
   ]
  },
  {
   "cell_type": "markdown",
   "metadata": {},
   "source": [
    "### Function for getting top words"
   ]
  },
  {
   "cell_type": "code",
   "execution_count": 1,
   "metadata": {},
   "outputs": [],
   "source": [
    "from scipy.stats import norm\n",
    "def get_top_words(LDAmodel, ntopics, method = \"top_words\", nwords = 100, npercentage = 0.01, quantile = 0.99):\n",
    "    if method == \"top_words\":\n",
    "        # The nwords parameter decides on how many words it prints for each topic.\n",
    "        keywords = []\n",
    "        for topic in range(0, ntopics):\n",
    "            keyword = [LDAmodel.show_topic(topic, topn = nwords)[nword][0] for nword in range(0, nwords)]\n",
    "            keywords.append(keywords)\n",
    "        return(keywords)\n",
    "    elif method == \"top_percentage\":\n",
    "        # The nwords parameter is to used to decide on the maximum number of words it prints for each topic. \n",
    "        # A smaller number of nwords will accelerate the algorithm.\n",
    "        keywords = []\n",
    "        for topic in range(0, ntopics):\n",
    "            keyword = []\n",
    "            for nword in range(0,nwords):\n",
    "                model_topic = LDAmodel.show_topic(topic, nwords)[nword]\n",
    "                if model_topic[1] > npercentage:\n",
    "                    keyword.append(model_topic[0])\n",
    "            keywords.append(keyword)\n",
    "        return(keywords)\n",
    "    # Do not recommend this method, because it needs to go through all of the words and find their probabilities \n",
    "    # which makes it very slow. 有超级计算机随意。\n",
    "    elif method == \"top_percentage_std\": \n",
    "        keywords = []\n",
    "        for topic in range(0, ntopics):\n",
    "            keyword = []\n",
    "            percentage = [LDAmodel.show_topic(topic, len(dictionary))[nword][1] for nword in range(0,len(dictionary))]\n",
    "            mean = stat.mean(percentage)\n",
    "            std = stat.stdev(percentage)\n",
    "            npercentage = mean + std * norm.ppf(quantile)\n",
    "            for nword in range(0, nwords):\n",
    "                model_topic = LDAmodel.show_topic(topic, nwords)[nword]\n",
    "                if model_topic[1] > npercentage:\n",
    "                    keyword.append(model_topic[0])\n",
    "            keywords.append(keyword)\n",
    "                          \n",
    "                "
   ]
  },
  {
   "cell_type": "code",
   "execution_count": 8,
   "metadata": {},
   "outputs": [],
   "source": [
    "topic_10_words = get_top_words(LDAmodels[10], 10, method = \"top_percentage\", nwords = 10, npercentage = 0.01)"
   ]
  },
  {
   "cell_type": "code",
   "execution_count": 9,
   "metadata": {},
   "outputs": [
    {
     "data": {
      "text/plain": [
       "[['经济/n', '全球/n', '世界/n', '市场/n', '我国/n', '政策/n', '问题/n', '国家/n', '欧盟/n'],\n",
       " ['企业/n', '制度/n', '部门/n', '机制/n', '社会/n', '问题/n', '组织/n', '政策/n'],\n",
       " ['企业/n', '市场/n', '产品/n', '业务/n', '人民币/n', '金融/n', '行业/n', '平台/n', '品牌/n'],\n",
       " ['产业/n',\n",
       "  '企业/n',\n",
       "  '项目/n',\n",
       "  '城市/n',\n",
       "  '国际/n',\n",
       "  '经济/n',\n",
       "  '国家/n',\n",
       "  '物流/n',\n",
       "  '战略/n',\n",
       "  '优势/n'],\n",
       " ['国家/n',\n",
       "  '习近平/nr',\n",
       "  '国/n',\n",
       "  '双方/n',\n",
       "  '世界/n',\n",
       "  '关系/n',\n",
       "  '国际/n',\n",
       "  '一带/n',\n",
       "  '领域/n',\n",
       "  '中方/n'],\n",
       " ['同比/n',\n",
       "  '汽车/n',\n",
       "  '专业/n',\n",
       "  '工业/n',\n",
       "  '百分点/n',\n",
       "  '本院/n',\n",
       "  '增速/n',\n",
       "  '人/n',\n",
       "  '公告/n',\n",
       "  '全省/n'],\n",
       " ['农业/n', '产业/n', '农村/n', '生态/n', '农产品/n', '项目/n', '质量/n', '企业/n', '特色/n'],\n",
       " ['项目/n', '人/n', '文件/n', '工程/n', '单位/n', '技术/n', '声明/n', '路/n'],\n",
       " ['习近平/nr',\n",
       "  '人民/n',\n",
       "  '社会主义/n',\n",
       "  '党/n',\n",
       "  '社会/n',\n",
       "  '国家/n',\n",
       "  '精神/n',\n",
       "  '经济/n',\n",
       "  '特色/n',\n",
       "  '制度/n'],\n",
       " ['文化/n', '人/n', '历史/n']]"
      ]
     },
     "execution_count": 9,
     "metadata": {},
     "output_type": "execute_result"
    }
   ],
   "source": [
    "topic_10_words"
   ]
  },
  {
   "cell_type": "code",
   "execution_count": null,
   "metadata": {},
   "outputs": [],
   "source": []
  }
 ],
 "metadata": {
  "kernelspec": {
   "display_name": "Python 3",
   "language": "python",
   "name": "python3"
  },
  "language_info": {
   "codemirror_mode": {
    "name": "ipython",
    "version": 3
   },
   "file_extension": ".py",
   "mimetype": "text/x-python",
   "name": "python",
   "nbconvert_exporter": "python",
   "pygments_lexer": "ipython3",
   "version": "3.6.8"
  }
 },
 "nbformat": 4,
 "nbformat_minor": 2
}
